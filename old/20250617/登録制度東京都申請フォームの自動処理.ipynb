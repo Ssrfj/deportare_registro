{
 "cells": [
  {
   "cell_type": "markdown",
   "metadata": {},
   "source": [
    "#0. 登録制度東京都申請フォームの入力内容を整理\n",
    "申請されたデータをExcelで出力したのち、csvに変換し、処理を容易に"
   ]
  },
  {
   "cell_type": "code",
   "execution_count": null,
   "metadata": {
    "executionInfo": {
     "elapsed": 49,
     "status": "ok",
     "timestamp": 1749112415188,
     "user": {
      "displayName": "地域スポーツ振興事業コーディネーター",
      "userId": "15170748379870320941"
     },
     "user_tz": -540
    },
    "id": "7osaefRXaIAY"
   },
   "outputs": [],
   "source": [
    "# 作業用ファイルの指定\n",
    "# グーグルフォームへの申請内容(Excel)\n",
    "form_pass = '登録制度東京都申請フォーム（案）（回答）.xlsx'\n",
    "\n",
    "# グーグルフォームへの申請内容(csv)\n",
    "# form_pass = '登録制度東京都申請フォーム（案）（回答） - フォームの回答 1 (1).csv'\n",
    "\n",
    "# カラム名修正用のcsvファイル\n",
    "column_name_pass = 'column_name.csv'"
   ]
  },
  {
   "cell_type": "code",
   "execution_count": null,
   "metadata": {
    "collapsed": true,
    "executionInfo": {
     "elapsed": 6,
     "status": "ok",
     "timestamp": 1749112415192,
     "user": {
      "displayName": "地域スポーツ振興事業コーディネーター",
      "userId": "15170748379870320941"
     },
     "user_tz": -540
    },
    "id": "r9BzbWP61Lng"
   },
   "outputs": [],
   "source": [
    "# パッケージの読み込み(下準備）\n",
    "import pandas as pd\n",
    "from datetime import datetime, timezone, timedelta\n",
    "import json"
   ]
  },
  {
   "cell_type": "code",
   "execution_count": null,
   "metadata": {},
   "outputs": [],
   "source": [
    "# 処理開始時間を取得\n",
    "start_time = datetime.now(timezone(timedelta(hours=9)))\n",
    "# 処理開始時間を日本時間に設定\n",
    "start_time = start_time.astimezone(timezone(timedelta(hours=9)))\n",
    "# 処理開始時間をYYYYMMDDHHMMSS形式に変換\n",
    "start_time_str = start_time.strftime('%Y%m%d%H%M%S')\n",
    "# 処理開始時間を表示\n",
    "print('カラム名修正処理_開始時間:', start_time_str)"
   ]
  },
  {
   "cell_type": "code",
   "execution_count": null,
   "metadata": {},
   "outputs": [],
   "source": [
    "# グーグルフォームへの申請内容(Excel)のシート名\n",
    "form_sheet_name = 'フォームの回答 1'\n",
    "\n",
    "# グーグルフォームへの申請内容(Excel)を読み込む\n",
    "form_df = pd.read_excel(form_pass, sheet_name=form_sheet_name)\n",
    "\n",
    "# 修正後のカラム名がリストされているカラム名修正用のcsvファイルを読み込む\n",
    "column_name_df = pd.read_csv(column_name_pass, encoding='utf-8')\n",
    "\n",
    "# 読み込み完了のメッセージを表示\n",
    "print('必要なデータを読み込みました。')"
   ]
  },
  {
   "cell_type": "code",
   "execution_count": null,
   "metadata": {},
   "outputs": [],
   "source": [
    "# カラム名修正用のデータとグーグルフォームへの申請内容のカラム数を照合\n",
    "if len(column_name_df) != len(form_df.columns):\n",
    "    print('カラム名修正用のデータとグーグルフォームへの申請内容のカラム数が一致しません。')\n",
    "    print('カラム名修正用のデータ:', len(column_name_df), 'カラム')\n",
    "    print('グーグルフォームへの申請内容:', len(form_df.columns), 'カラム')\n",
    "    exit()\n",
    "# カラム名修正用のデータをリストに変換\n",
    "column_name_list = column_name_df['修正後のカラム名'].tolist()\n",
    "# グーグルフォームへの申請内容のカラム名を修正後のカラム名に変更\n",
    "form_df.columns = column_name_list\n",
    "# 修正後のカラム名を表示\n",
    "print('修正後のカラム名:', form_df.columns.tolist())\n",
    "# 修正後のデータをCSVファイルに保存\n",
    "form_df.to_csv('申請内容_' + start_time_str + '.csv', index=False, encoding='utf-8-sig')\n",
    "\n",
    "# 修正完了のメッセージを表示\n",
    "print('申請内容のカラム名を修正し、CSVファイルに保存しました。')"
   ]
  },
  {
   "cell_type": "markdown",
   "metadata": {
    "id": "0N29XeFD1SFR"
   },
   "source": [
    "#1. 登録制度東京都申請フォームの自動受付\n",
    "申請されたデータをもとに、まず申請状況をリスト化"
   ]
  },
  {
   "cell_type": "code",
   "execution_count": null,
   "metadata": {},
   "outputs": [],
   "source": [
    "# パッケージの読み込み(下準備）\n",
    "import os\n",
    "import pandas as pd"
   ]
  },
  {
   "cell_type": "code",
   "execution_count": null,
   "metadata": {
    "colab": {
     "base_uri": "https://localhost:8080/"
    },
    "executionInfo": {
     "elapsed": 7,
     "status": "ok",
     "timestamp": 1749112415195,
     "user": {
      "displayName": "地域スポーツ振興事業コーディネーター",
      "userId": "15170748379870320941"
     },
     "user_tz": -540
    },
    "id": "eFIsRPHP10bM",
    "outputId": "0386f602-bdcd-46eb-fa62-202f67cf4749"
   },
   "outputs": [],
   "source": [
    "# クラブ名のリスト(csv):f'クラブリスト_{YYYYMMDDHHMMSS}.csvの形式で保存されているので、最新のクラブリストを読み込む\n",
    "try:\n",
    "    # クラブ名のクラブリスト_{YYYYMMDDHHMMSS}.csvのファイルを探し、最新のものを読み込む\n",
    "    club_list_files = [f for f in os.listdir('.') if f.startswith('クラブリスト_') and f.endswith('.csv')]\n",
    "    if not club_list_files:\n",
    "        raise FileNotFoundError(\"クラブリストのCSVファイルが見つかりません。\")\n",
    "    # 最新のクラブリストファイルを取得\n",
    "    club_list_file_for_acceptance = max(club_list_files, key=os.path.getctime)\n",
    "    # 最新のクラブリストを読み込む\n",
    "    club_list_df_for_acceptance = pd.read_csv(club_list_file_for_acceptance, encoding='utf-8-sig')\n",
    "    # クラブ名のリストを確認\n",
    "    print(club_list_df_for_acceptance.head())\n",
    "    print(\"クラブリストの読み込みが完了しました\")\n",
    "except Exception as e:\n",
    "    print(f\"クラブリストの読み込み中にエラーが発生しました: {e}\")"
   ]
  },
  {
   "cell_type": "code",
   "execution_count": null,
   "metadata": {
    "colab": {
     "base_uri": "https://localhost:8080/"
    },
    "executionInfo": {
     "elapsed": 15,
     "status": "ok",
     "timestamp": 1749112415210,
     "user": {
      "displayName": "地域スポーツ振興事業コーディネーター",
      "userId": "15170748379870320941"
     },
     "user_tz": -540
    },
    "id": "WMim81oZ2PJg",
    "outputId": "c9931f8f-ff64-47d8-8acf-215b59c43acc"
   },
   "outputs": [],
   "source": [
    "# クラブからの申請内容が申請内容_{start_time_str}.csvの形式で保存されているので、最新の申請内容を読み込む\n",
    "try:\n",
    "    # クラブ名の申請内容_{start_time_str}.csvのファイルを探し、最新のものを読み込む\n",
    "    form_files = [f for f in os.listdir('.') if f.startswith('申請内容_') and f.endswith('.csv')]\n",
    "    if not form_files:\n",
    "        raise FileNotFoundError(\"申請内容のCSVファイルが見つかりません。\")\n",
    "    # 最新の申請内容ファイルを取得\n",
    "    form_file_for_acceptance = max(form_files, key=os.path.getctime)\n",
    "    # 最新の申請内容を読み込む\n",
    "    form_df_for_acceptance = pd.read_csv(form_file_for_acceptance, encoding='utf-8-sig')\n",
    "    # 申請内容のデータを確認\n",
    "    print(form_df_for_acceptance.head())\n",
    "    print(form_df_for_acceptance.columns)\n",
    "    print(form_df_for_acceptance.dtypes)\n",
    "    print(\"申請内容の読み込みが完了しました\")\n",
    "except Exception as e:\n",
    "    print(f\"申請内容の読み込み中にエラーが発生しました: {e}\")\n",
    "\n",
    "# タイムスタンプをdatetime型に変換\n",
    "form_df_for_acceptance['タイムスタンプ'] = pd.to_datetime(form_df_for_acceptance['タイムスタンプ'], errors='coerce')\n",
    "form_df_for_acceptance['タイムスタンプyyyymmddHHMMSS'] = form_df_for_acceptance['タイムスタンプ'].dt.strftime('%Y%m%d%H%M%S')"
   ]
  },
  {
   "cell_type": "code",
   "execution_count": null,
   "metadata": {
    "colab": {
     "base_uri": "https://localhost:8080/"
    },
    "executionInfo": {
     "elapsed": 8,
     "status": "ok",
     "timestamp": 1749112415221,
     "user": {
      "displayName": "地域スポーツ振興事業コーディネーター",
      "userId": "15170748379870320941"
     },
     "user_tz": -540
    },
    "id": "eK0tgTHz3OBl",
    "outputId": "efac1902-0bc0-4580-a73b-a8acde3bd57d"
   },
   "outputs": [],
   "source": [
    "# club_list_dfに申請内容を基に申請した追記\n",
    "# 最新の申請のみを抽出（クラブ名ごとに最新のタイムスタンプ）\n",
    "latest_applied_clubs_df = form_df_for_acceptance.sort_values('タイムスタンプ').drop_duplicates('クラブ名を選択してください', keep='last')\n",
    "\n",
    "# クラブ名でマージ\n",
    "merged_club_list_df_for_acceptance = pd.merge(\n",
    "    club_list_df_for_acceptance,\n",
    "    latest_applied_clubs_df,\n",
    "    left_on='選択肢（地区名：クラブ名：クラブ名（カタカナ））',\n",
    "    right_on='クラブ名を選択してください',\n",
    "    how='left'\n",
    "    )\n",
    "\n",
    "# 申請フラグとタイムスタンプ列を追加\n",
    "merged_club_list_df_for_acceptance['R8年度登録申請クラブ'] = merged_club_list_df_for_acceptance['タイムスタンプ'].notna().astype(int)\n",
    "merged_club_list_df_for_acceptance['R8年度登録申請_タイムスタンプ'] = merged_club_list_df_for_acceptance['タイムスタンプ']\n",
    "\n",
    "# 結果確認\n",
    "print(merged_club_list_df_for_acceptance[['選択肢（地区名：クラブ名：クラブ名（カタカナ））', 'R8年度登録申請クラブ', 'R8年度登録申請_タイムスタンプ']].head())"
   ]
  },
  {
   "cell_type": "code",
   "execution_count": null,
   "metadata": {
    "colab": {
     "base_uri": "https://localhost:8080/"
    },
    "executionInfo": {
     "elapsed": 40,
     "status": "ok",
     "timestamp": 1749112415268,
     "user": {
      "displayName": "地域スポーツ振興事業コーディネーター",
      "userId": "15170748379870320941"
     },
     "user_tz": -540
    },
    "id": "Hn7cl6NCYQkx",
    "outputId": "6cb03691-0fd2-41ee-cf50-666c76c5f03d"
   },
   "outputs": [],
   "source": [
    "# merged_club_list_dfを'クラブリスト_yyyymmddhhmmss.csv'に出力\n",
    "# 日本の現在時刻を取得\n",
    "jst_now = datetime.now(timezone(timedelta(hours=9)))\n",
    "\n",
    "# 時刻をyyyymmddHHMMSS形式に変換\n",
    "timestamp_for_acceptance = jst_now.strftime(\"%Y%m%d%H%M%S\")\n",
    "\n",
    "# 出力時のファイル名を指定\n",
    "output_file_path_for_acceptance = f'申請受付リスト_{timestamp_for_acceptance}.csv'\n",
    "\n",
    "# csvを出力\n",
    "merged_club_list_df_for_acceptance.to_csv(output_file_path_for_acceptance, index=False)\n",
    "print(f\"出力ファイルパス: {output_file_path_for_acceptance}\")"
   ]
  },
  {
   "cell_type": "markdown",
   "metadata": {
    "id": "gGR22si2Zx7R"
   },
   "source": [
    "#2. クラブごとチェックリスト作成\n",
    "\n",
    "申請されたデータをもとにクラブごとのチェックリストを作成"
   ]
  },
  {
   "cell_type": "code",
   "execution_count": null,
   "metadata": {
    "executionInfo": {
     "elapsed": 4,
     "status": "ok",
     "timestamp": 1749112416446,
     "user": {
      "displayName": "地域スポーツ振興事業コーディネーター",
      "userId": "15170748379870320941"
     },
     "user_tz": -540
    },
    "id": "poXpICQabCPs"
   },
   "outputs": [],
   "source": [
    "# パッケージの読み込み(下準備）\n",
    "import pandas as pd\n",
    "import os\n",
    "from datetime import datetime, timezone, timedelta"
   ]
  },
  {
   "cell_type": "code",
   "execution_count": null,
   "metadata": {
    "executionInfo": {
     "elapsed": 8,
     "status": "ok",
     "timestamp": 1749112416496,
     "user": {
      "displayName": "地域スポーツ振興事業コーディネーター",
      "userId": "15170748379870320941"
     },
     "user_tz": -540
    },
    "id": "bDdfunxKliaq"
   },
   "outputs": [],
   "source": [
    "# 日本の現在時刻を取得\n",
    "jst_now = datetime.now(timezone(timedelta(hours=9)))\n",
    "\n",
    "# 時刻をyyyymmddHHMMSS形式に変換\n",
    "timestamp_for_make_checklist = jst_now.strftime(\"%Y%m%d%H%M%S\")"
   ]
  },
  {
   "cell_type": "code",
   "execution_count": null,
   "metadata": {
    "colab": {
     "base_uri": "https://localhost:8080/"
    },
    "executionInfo": {
     "elapsed": 51,
     "status": "ok",
     "timestamp": 1749112416548,
     "user": {
      "displayName": "地域スポーツ振興事業コーディネーター",
      "userId": "15170748379870320941"
     },
     "user_tz": -540
    },
    "id": "6gNrr3SUogNY",
    "outputId": "a56f44c2-3a12-4064-b905-94232e511b36"
   },
   "outputs": [],
   "source": [
    "# クラブリスト_{timestamp}.csvを読み込む\n",
    "# folderを参照して、最新のクラブリストを探す\n",
    "foldr_path_for_make_checklist = 'R7_登録申請処理/クラブリスト'\n",
    "latest_file = max([os.path.join(foldr_path_for_make_checklist, f) for f in os.listdir(foldr_path_for_make_checklist)], key=os.path.getctime)\n",
    "\n",
    "# 最新のクラブリストを読み込む\n",
    "club_list_df_for_make_checklist = pd.read_csv(latest_file)\n",
    "print(club_list_df_for_make_checklist.head())\n",
    "print(club_list_df_for_make_checklist.columns)\n",
    "print(club_list_df_for_make_checklist.dtypes)\n",
    "print(\"クラブリストの読み込みが完了しました\")\n",
    "\n",
    "# R8年度登録申請クラブが1のデータのみ保持\n",
    "application_club_list_df_for_make_checklist = club_list_df_for_make_checklist[club_list_df_for_make_checklist['R8年度登録申請クラブ'] == 1]"
   ]
  },
  {
   "cell_type": "code",
   "execution_count": null,
   "metadata": {
    "executionInfo": {
     "elapsed": 12,
     "status": "ok",
     "timestamp": 1749112416549,
     "user": {
      "displayName": "地域スポーツ振興事業コーディネーター",
      "userId": "15170748379870320941"
     },
     "user_tz": -540
    },
    "id": "a3RMxUvLmw2W"
   },
   "outputs": [],
   "source": [
    "# タイムスタンプをdatetime型に変換\n",
    "application_club_list_df_for_make_checklist['タイムスタンプ'] = pd.to_datetime(application_club_list_df_for_make_checklist['タイムスタンプ'], errors='coerce')\n",
    "\n",
    "# さらに、yyyymmddHHMMSS形式に変換\n",
    "application_club_list_df_for_make_checklist['タイムスタンプyyyymmddHHMMSS'] = application_club_list_df_for_make_checklist['タイムスタンプ'].dt.strftime('%Y%m%d%H%M%S')"
   ]
  },
  {
   "cell_type": "code",
   "execution_count": null,
   "metadata": {
    "colab": {
     "base_uri": "https://localhost:8080/"
    },
    "executionInfo": {
     "elapsed": 10,
     "status": "ok",
     "timestamp": 1749112416549,
     "user": {
      "displayName": "地域スポーツ振興事業コーディネーター",
      "userId": "15170748379870320941"
     },
     "user_tz": -540
    },
    "id": "5a3B7NIJm4B6",
    "outputId": "1071d77a-20e4-4e01-87d0-4ebc96993e72"
   },
   "outputs": [],
   "source": [
    "# 出力フォルダの作成（作成済みの場合は処理をパス）\n",
    "if not os.path.exists('R7_登録申請処理/申請入力内容'):\n",
    "    os.makedirs('R7_登録申請処理/申請入力内容',exist_ok=True)\n",
    "    output_folder = 'R7_登録申請処理/申請入力内容'\n",
    "    print('フォルダが作成されました')\n",
    "else:\n",
    "    output_folder = 'R7_登録申請処理/申請入力内容'\n",
    "    print('フォルダは既に存在しています')"
   ]
  },
  {
   "cell_type": "code",
   "execution_count": null,
   "metadata": {
    "colab": {
     "base_uri": "https://localhost:8080/"
    },
    "executionInfo": {
     "elapsed": 5,
     "status": "ok",
     "timestamp": 1749112416549,
     "user": {
      "displayName": "地域スポーツ振興事業コーディネーター",
      "userId": "15170748379870320941"
     },
     "user_tz": -540
    },
    "id": "GxO7XR3jv8Xi",
    "outputId": "324c1196-c808-444e-9cf5-6ae97d591ae4"
   },
   "outputs": [],
   "source": [
    "# クラブごとのチェックリスト作成状況を保存するcsvを読み込み（ない場合は作成）\n",
    "if os.path.exists('R7_登録申請処理/申請入力内容/クラブごとのチェックリスト作成状況.csv'):\n",
    "  checklist_create_df = pd.read_csv('R7_登録申請処理/申請入力内容/クラブごとのチェックリスト作成状況.csv')\n",
    "  print('クラブごとのチェックリスト作成状況.csvはすでに存在しています')\n",
    "else:\n",
    "  checklist_create_df = pd.DataFrame(columns=['クラブ名','申請日時', 'チェックリスト作成日時'])\n",
    "  checklist_create_df.to_csv('R7_登録申請処理/申請入力内容/クラブごとのチェックリスト作成状況.csv', index=False)\n",
    "  print('クラブごとのチェックリスト作成状況.csvが作成されました')"
   ]
  },
  {
   "cell_type": "code",
   "execution_count": null,
   "metadata": {
    "colab": {
     "base_uri": "https://localhost:8080/"
    },
    "executionInfo": {
     "elapsed": 9,
     "status": "ok",
     "timestamp": 1749112416556,
     "user": {
      "displayName": "地域スポーツ振興事業コーディネーター",
      "userId": "15170748379870320941"
     },
     "user_tz": -540
    },
    "id": "IZo4b4EFdK7y",
    "outputId": "711268c0-32b3-421a-b2ea-dff22a871211"
   },
   "outputs": [],
   "source": [
    "# クラブごとのチェックリストを作成\n",
    "# クラブごとの処理\n",
    "for _, row in application_club_list_df_for_make_checklist.iterrows():\n",
    "  try:\n",
    "    club_data = {\n",
    "        'クラブ名': [row['クラブ名']],\n",
    "        '地区名': [row['地区名']],\n",
    "        '担当者名': [row['申請担当者の氏名を入力してください']],\n",
    "        '役職名': [row['申請担当者の役職名を入力してください']],\n",
    "        'メールアドレス': [row['メールアドレス']],\n",
    "        '電話番号': [row['申請担当者の日中連絡がつく電話番号を入力してください']],\n",
    "        'FAX番号': [row['（必要があれば）申請担当者のFAX番号を入力してください']],\n",
    "        '申請時間': [row['タイムスタンプ']],\n",
    "        '自動チェック': [''],\n",
    "        '自動チェック更新時間': [''],\n",
    "        '書類チェック': [''],\n",
    "        '書類チェック更新時間': [''],\n",
    "        '書類間チェック': [''],\n",
    "        '書類間チェック更新時間': [''],\n",
    "        '担当者登録基準最終チェック': [''],\n",
    "        '担当者登録基準最終チェック更新時間': [''],\n",
    "    }\n",
    "    club_df_for_make_checklist = pd.DataFrame(club_data)\n",
    "    print(f\"{row['クラブ名']}のclub_dfが作成されました\")\n",
    "    # checklist_create_dfにクラブ名があるかを確認\n",
    "    if row['クラブ名'] not in checklist_create_df['クラブ名'].values:\n",
    "      print('クラブ名がまだ存在しません')\n",
    "      # checklist_create_dfにクラブ名の列を追加\n",
    "      new_row = pd.DataFrame([{\n",
    "          'クラブ名': row['クラブ名'],\n",
    "          '申請日時': row['タイムスタンプ'],\n",
    "          'チェックリスト作成日時': timestamp_for_make_checklist\n",
    "          }])\n",
    "      checklist_create_df = pd.concat([checklist_create_df, new_row], ignore_index=True)\n",
    "      print(f\"{row['クラブ名']}の列が追加されました\")\n",
    "    else:\n",
    "      print('クラブ名がすでに存在します')\n",
    "\n",
    "    # checklist_create_dfにある申請日時と申請時間を照合\n",
    "    print('checklist_create_dfにある申請日時と申請時間を照合に移行します')\n",
    "    if row['タイムスタンプ'] == checklist_create_df.loc[checklist_create_df['クラブ名'] == row['クラブ名'], '申請日時'].values[0]:\n",
    "      # その後の処理\n",
    "      # csvに出力\n",
    "      file_name = f\"{row['クラブ名']}_申請{row['タイムスタンプyyyymmddHHMMSS']}_作成{timestamp_for_make_checklist}.csv\"\n",
    "      print(f\"file_name: {file_name}\")\n",
    "      print(f\"output_folder: {output_folder}\")\n",
    "      file_path = os.path.join(output_folder, file_name)\n",
    "      print(f\"file_path: {file_path}\")\n",
    "      print(f\"出力ファイルパス: {file_path}\")\n",
    "      club_df_for_make_checklist.to_csv(file_path, index=False)\n",
    "      # checklist_create_dfのアップデート\n",
    "      checklist_create_df.loc[checklist_create_df['クラブ名'] == row['クラブ名'], '申請日時'] = row['タイムスタンプ']\n",
    "      checklist_create_df.to_csv('R7_登録申請処理/申請入力内容/クラブごとのチェックリスト作成状況.csv', index=False)\n",
    "      print(f\"{row['クラブ名']}の申請日時が更新されました\")\n",
    "    else:\n",
    "      print('申請日時が同じチェックリストを作成済みです')\n",
    "  except Exception as e:\n",
    "    print(f\"クラブ {row['クラブ名']} の処理中にエラーが発生しました: {e}\")"
   ]
  },
  {
   "cell_type": "markdown",
   "metadata": {
    "id": "I4koFBx-tZeA"
   },
   "source": [
    "#3. クラブごとに自動チェック\n",
    "申請されたデータをもとに記入漏れ等をチェック"
   ]
  },
  {
   "cell_type": "code",
   "execution_count": null,
   "metadata": {
    "executionInfo": {
     "elapsed": 8,
     "status": "ok",
     "timestamp": 1749112418216,
     "user": {
      "displayName": "地域スポーツ振興事業コーディネーター",
      "userId": "15170748379870320941"
     },
     "user_tz": -540
    },
    "id": "zVkLEd2ctVBo"
   },
   "outputs": [],
   "source": [
    "import pandas as pd\n",
    "import os\n",
    "from datetime import datetime, timezone, timedelta"
   ]
  },
  {
   "cell_type": "code",
   "execution_count": null,
   "metadata": {
    "executionInfo": {
     "elapsed": 22,
     "status": "ok",
     "timestamp": 1749112418264,
     "user": {
      "displayName": "地域スポーツ振興事業コーディネーター",
      "userId": "15170748379870320941"
     },
     "user_tz": -540
    },
    "id": "zP9Ocya1ymKY"
   },
   "outputs": [],
   "source": [
    "# 必須項目に入力があるかをチェックする関数\n",
    "def check_must_columns(application_row):\n",
    "    \"\"\"\n",
    "    必須の項目が記入されているかをチェックします。\n",
    "    \"\"\"\n",
    "    error_dict = {}\n",
    "    # 必須ではない項目を指定（変更があればここを修正）\n",
    "    not_must_column = [\n",
    "        '所在する区市町村を通じ、東京都に総合型クラブ設立の「届出」を提出中であることを確認できる資料を提出してください。',\n",
    "        '（必要があれば）事務局が所在する建物名を入力してください',\n",
    "        '（必要があれば）申請担当者のFAX番号を入力してください',\n",
    "        \"（上のリストにおいて、「このリストに含まれていない種目」を「実施している」と回答した方に伺います）「リストに含まれていない種目」のうち、定期的に行っているスポーツ活動種目の数を入力してください（※定期的とは年間12回以上行っていることを指します）\",\n",
    "        \"（上のリストにおいて、「このリストに含まれていない種目」を「実施している」と回答した方に伺います）「リストに含まれていない種目」のうち、定期的に行っているスポーツ活動種目名を入力してくださいなお、入力時は種目名を半角カンマ（,）で区切って入力してください例：サッカー,野球,バスケ※定期的とは年間12回以上行っていることを指します\",\n",
    "        \"規約等の改廃を決議した際の議事録をアップロードしてください※同一の書類を提出済みでも、提出をお願いします。\",\n",
    "        '改廃前の規約等をアップロードしてください',\n",
    "        '規約等をアップロードしてください',\n",
    "        '提出する役員名簿（議決権保有者名簿）の種類を入力してください',\n",
    "        '役員名簿（議決権保有者名簿）をアップロードしてください',\n",
    "        '事業報告を決議した意思決定機関の名称を入力してください',\n",
    "        '事業報告の決議日について入力してください',\n",
    "        '決議された事業報告をアップロードしてください',\n",
    "        '事業報告を決議した際の議事録をアップロードしてください※同一の書類を提出済みでも、提出をお願いします。',\n",
    "        '決算を決議した意思決定機関の名称を入力してください',\n",
    "        '決算の決議日について入力してください',\n",
    "        '決議された決算をアップロードしてください',\n",
    "        '決算を決議した際の議事録をアップロードしてください※同一の書類を提出済みでも、提出をお願いします。'\n",
    "    ]\n",
    "\n",
    "    # 必須のカラムを指定（全column-not_must_column)\n",
    "    must_column = [col for col in application_row.columns if col not in not_must_column]\n",
    "\n",
    "    # 必須のカラムが空白（NaN）ではないかをチェック\n",
    "    if application_row[must_column].isna().any().any():\n",
    "        error_at_must_column = []\n",
    "        for col in must_column:\n",
    "            if not application_row.empty and pd.isna(application_row[col].iloc[0]):\n",
    "                 error_at_must_column.append(col)\n",
    "        if error_at_must_column:\n",
    "            error_dict['e_a_000'] = f'必須の項目が入力されていない:{error_at_must_column}'\n",
    "    else:\n",
    "        print('必須項目が入力されている')\n",
    "\n",
    "    return error_dict"
   ]
  },
  {
   "cell_type": "code",
   "execution_count": null,
   "metadata": {
    "executionInfo": {
     "elapsed": 1,
     "status": "ok",
     "timestamp": 1749112418267,
     "user": {
      "displayName": "地域スポーツ振興事業コーディネーター",
      "userId": "15170748379870320941"
     },
     "user_tz": -540
    },
    "id": "h1sjmblmy8Dl"
   },
   "outputs": [],
   "source": [
    "# 届け出中のクラブが資料を提出しているかをチェックする関数\n",
    "def check_submitting_now(form_row):\n",
    "    \"\"\"\n",
    "    form_row['クラブ名を選択してください']が「この中に無い」の時に\n",
    "    form_row['所在する区市町村を通じ、東京都に総合型クラブ設立の「届出」を提出中であることを確認できる資料を提出してください。']にデータがあるかをチェックします。\n",
    "    \"\"\"\n",
    "    error_dict = {}\n",
    "    # form_rowが空でないことを確認\n",
    "    if not form_row.empty:\n",
    "        # form_row['クラブ名を選択してください']が'この中に無い'の時に専用のフラグを立てる\n",
    "        flag_submitting_now = 0 # 初期値を0に設定\n",
    "        if (form_row['クラブ名を選択してください'] == 'この中に無い').any():\n",
    "            flag_submitting_now = 1 # 条件を満たす行が1つでもあればフラグを1に設定\n",
    "            print('このクラブは東京都に「届出」提出中です')\n",
    "        else:\n",
    "            flag_submitting_now = 0 # 条件を満たす行がなければフラグは0のまま\n",
    "            print('このクラブは東京都に「届出」済です')\n",
    "\n",
    "        if flag_submitting_now == 1 and pd.isna(form_row['所在する区市町村を通じ、東京都に総合型クラブ設立の「届出」を提出中であることを確認できる資料を提出してください。'].iloc[0]):\n",
    "            error_dict['e_a_001'] = '非届出クラブだが、都に「届出」中であると確認できる資料が提出されていない'\n",
    "        else:\n",
    "            print('クラブ名の記載に問題がない')\n",
    "    else:\n",
    "        print(\"警告: check_submitting_now 関数に空のform_rowが渡されました。\")\n",
    "\n",
    "    return error_dict"
   ]
  },
  {
   "cell_type": "code",
   "execution_count": null,
   "metadata": {
    "executionInfo": {
     "elapsed": 1,
     "status": "ok",
     "timestamp": 1749112418269,
     "user": {
      "displayName": "地域スポーツ振興事業コーディネーター",
      "userId": "15170748379870320941"
     },
     "user_tz": -540
    },
    "id": "yJbwbqyizJTV"
   },
   "outputs": [],
   "source": [
    "# 電話番号をチェックする関数\n",
    "def check_phone_number(form_row):\n",
    "    \"\"\"\n",
    "    form_row['申請担当者の日中連絡がつく電話番号を入力してください']が電話番号形式かをチェックします。\n",
    "    （ハイフンを除いて10桁もしくは11桁であるかをチェック）\n",
    "    \"\"\"\n",
    "    error_dict = {}\n",
    "    if not form_row.empty:\n",
    "        phone_number = form_row['申請担当者の日中連絡がつく電話番号を入力してください'].iloc[0]\n",
    "        # NaNでないことを確認\n",
    "        if not pd.isna(phone_number):\n",
    "             # 電話番号からハイフンを取り除く\n",
    "            phone_number_cleaned = str(phone_number).replace('-', '')\n",
    "            if not (len(phone_number_cleaned) == 10 or len(phone_number_cleaned) == 11):\n",
    "                error_dict['e_a_002'] = '電話番号が不正である（ハイフンを除いて10桁もしくは11桁ではない）'\n",
    "            else:\n",
    "                print('電話番号の記載に問題がない')\n",
    "        else:\n",
    "            error_dict['e_a_002'] = '電話番号が入力されていない'\n",
    "    else:\n",
    "        print(\"警告: check_phone_number 関数に空のform_rowが渡されました。\")\n",
    "    return error_dict"
   ]
  },
  {
   "cell_type": "code",
   "execution_count": null,
   "metadata": {
    "executionInfo": {
     "elapsed": 4,
     "status": "ok",
     "timestamp": 1749112418292,
     "user": {
      "displayName": "地域スポーツ振興事業コーディネーター",
      "userId": "15170748379870320941"
     },
     "user_tz": -540
    },
    "id": "8wFUY7x6za3d"
   },
   "outputs": [],
   "source": [
    "# FAX番号をチェックする関数\n",
    "def check_fax_number(form_row):\n",
    "    \"\"\"\n",
    "    form_row['（必要があれば）申請担当者のFAX番号を入力してください']が電話番号形式かをチェックします。\n",
    "    （ハイフンを除いて10桁であるかをチェック）\n",
    "    \"\"\"\n",
    "    error_dict = {}\n",
    "    if not form_row.empty:\n",
    "        fax_number = form_row['（必要があれば）申請担当者のFAX番号を入力してください'].iloc[0]\n",
    "        # NaNでないことを確認\n",
    "        if not pd.isna(fax_number):\n",
    "            # FAX番号からハイフンを取り除く\n",
    "            fax_number_cleaned = str(fax_number).replace('-', '')\n",
    "            if not len(fax_number_cleaned) == 10:\n",
    "                error_dict['e_a_003'] = 'FAX番号が不正である（ハイフンを除いて10桁ではない）'\n",
    "            else:\n",
    "                print('FAX番号の記載に問題がない')\n",
    "        else:\n",
    "            print('FAX番号が空白である')\n",
    "    else:\n",
    "        print(\"警告: check_fax_number 関数に空のform_rowが渡されました。\")\n",
    "    return error_dict"
   ]
  },
  {
   "cell_type": "code",
   "execution_count": null,
   "metadata": {
    "executionInfo": {
     "elapsed": 2,
     "status": "ok",
     "timestamp": 1749112418293,
     "user": {
      "displayName": "地域スポーツ振興事業コーディネーター",
      "userId": "15170748379870320941"
     },
     "user_tz": -540
    },
    "id": "8aJFa3RIzj88"
   },
   "outputs": [],
   "source": [
    "# 申請種別を確認する関数\n",
    "def check_application_type(application_row, application_data_df, club_name):\n",
    "    \"\"\"\n",
    "    application_row['申請種別を選択してください']が application_data_df のR7年度の登録状況と一致するかをチェックします。\n",
    "    \"\"\"\n",
    "    error_dict = {}\n",
    "    if not application_row.empty:\n",
    "        # application_data_df に現在のクラブ名に対応する行があるかを確認\n",
    "        application_data_match_row = application_data_df[application_data_df['クラブ名を選択してください'] == club_name]\n",
    "        if not application_data_match_row.empty:\n",
    "            if application_row['申請種別を選択してください'].iloc[0] == '新規（R7年度には登録していない）' and application_data_match_row['R7年度登録クラブ'].iloc[0] == 1:\n",
    "                error_dict['e_a_004-a'] = 'R7年度の登録クラブだが、新規登録として申請されている'\n",
    "            elif application_row['申請種別を選択してください'].iloc[0] == '更新（R7年度に登録済み）' and application_data_match_row['R7年度登録クラブ'].iloc[0] == 0:\n",
    "                error_dict['e_a_004-b'] = 'R7年度の登録クラブではないが、更新として申請されている'\n",
    "            else:\n",
    "                print('申請種別が正しい')\n",
    "        else:\n",
    "            print(f\"警告: クラブ名 '{club_name}' は申請内容を含むデータに見つかりませんでした。\")\n",
    "    else:\n",
    "        print(\"警告: check_application_type 関数に空の application_row が渡されました。\")\n",
    "    return error_dict"
   ]
  },
  {
   "cell_type": "code",
   "execution_count": null,
   "metadata": {
    "executionInfo": {
     "elapsed": 2,
     "status": "ok",
     "timestamp": 1749112418294,
     "user": {
      "displayName": "地域スポーツ振興事業コーディネーター",
      "userId": "15170748379870320941"
     },
     "user_tz": -540
    },
    "id": "g1sRTrJzzuI5"
   },
   "outputs": [],
   "source": [
    "# 基準適合状況の入力を確認する関数\n",
    "def check_standard_compliance(application_row):\n",
    "    \"\"\"\n",
    "    基準適合状況について全て「適合している」となっているかをチェックします。\n",
    "    （R8は(1)③については経過措置のためチェックを排除）\n",
    "    \"\"\"\n",
    "    error_dict = {}\n",
    "    if not application_row.empty:\n",
    "        standard_column = [\n",
    "            '基準適合状況(1)①：多種目（複数種目）のスポーツ活動を実施している',\n",
    "            '基準適合状況 (1)  ②：多世代（複数世代）を対象としている',\n",
    "            #'基準適合状況 (1)  ③：適切なスポーツ指導者を配置している', # R8ではチェックしない\n",
    "            '基準適合状況 (1)  ④：安全管理体制を整備している',\n",
    "            '基準適合状況（2）⑤：地域住民が主体的に運営している',\n",
    "            '基準適合状況（3）⑥：規約等が意思決定機関の議決により整備され、当該規約等に基づいて運営している',\n",
    "            '基準適合状況（3）⑦：事業計画・予算、事業報告・決算が、意思決定機関で議決されている'\n",
    "            ]\n",
    "        # 各カラムをループして '適合していない' が含まれているかを確認\n",
    "        error_at_standard_column = [col for col in standard_column if not application_row.empty and application_row[col].iloc[0] == '適合していない']\n",
    "        if error_at_standard_column:\n",
    "             error_dict['e_a_005'] = f'登録基準に適合していない:{error_at_standard_column}'\n",
    "        else:\n",
    "            print('基準に適合している')\n",
    "    else:\n",
    "        print(\"警告: check_standard_compliance 関数に空のapplication_rowが渡されました。\")\n",
    "    return error_dict"
   ]
  },
  {
   "cell_type": "code",
   "execution_count": null,
   "metadata": {
    "executionInfo": {
     "elapsed": 17,
     "status": "ok",
     "timestamp": 1749112418312,
     "user": {
      "displayName": "地域スポーツ振興事業コーディネーター",
      "userId": "15170748379870320941"
     },
     "user_tz": -540
    },
    "id": "I9YwzseSdri6"
   },
   "outputs": [],
   "source": [
    "# 会員数の入力をチェックする関数\n",
    "def check_number_of_members(application_row):\n",
    "    \"\"\"\n",
    "    会員数に関するカラムに数字が記入されているかをチェックします。\n",
    "    \"\"\"\n",
    "    error_dict = {}\n",
    "    if not application_row.empty:\n",
    "        num_of_members_column = [\n",
    "            \"「A未就学児」×「男性」の会員数を「数字」で入力してください\",\n",
    "            \"「A未就学児」×「女性」の会員数を「数字」で入力してください\",\n",
    "            \"「A未就学児」×「性別不明」の会員数を「数字」で入力してください\",\n",
    "            \"「B小学生」×「男性」の会員数を「数字」で入力してください\",\n",
    "            \"「B小学生」×「女性」の会員数を「数字」で入力してください\",\n",
    "            \"「B小学生」×「性別不明」の会員数を「数字」で入力してください\",\n",
    "            \"「C中学生」×「男性」の会員数を「数字」で入力してください\",\n",
    "            \"「C中学生」×「女性」の会員数を「数字」で入力してください\",\n",
    "            \"「C中学生」×「性別不明」の会員数を「数字」で入力してください\",\n",
    "            \"「D高校生（～18歳）」×「男性」の会員数を「数字」で入力してください\",\n",
    "            \"「D高校生（～18歳）」×「女性」の会員数を「数字」で入力してください\",\n",
    "            \"「D高校生（～18歳）」×「性別不明」の会員数を「数字」で入力してください\",\n",
    "            \"「E～29歳」×「男性」の会員数を「数字」で入力してください\",\n",
    "            \"「E～29歳」×「女性」の会員数を「数字」で入力してください\",\n",
    "            \"「E～29歳」×「性別不明」の会員数を「数字」で入力してください\",\n",
    "            \"「F～39歳」×「男性」の会員数を「数字」で入力してください\",\n",
    "            \"「F～39歳」×「女性」の会員数を「数字」で入力してください\",\n",
    "            \"「F～39歳」×「性別不明」の会員数を「数字」で入力してください\",\n",
    "            \"「G～49歳」×「男性」の会員数を「数字」で入力してください\",\n",
    "            \"「G～49歳」×「女性」の会員数を「数字」で入力してください\",\n",
    "            \"「G～49歳」×「性別不明」の会員数を「数字」で入力してください\",\n",
    "            \"「H～59歳」×「男性」の会員数を「数字」で入力してください\",\n",
    "            \"「H～59歳」×「女性」の会員数を「数字」で入力してください\",\n",
    "            \"「H～59歳」×「性別不明」の会員数を「数字」で入力してください\",\n",
    "            \"「I～69歳」×「男性」の会員数を「数字」で入力してください\",\n",
    "            \"「I～69歳」×「女性」の会員数を「数字」で入力してください\",\n",
    "            \"「I～69歳」×「性別不明」の会員数を「数字」で入力してください\",\n",
    "            \"「J70歳～」×「男性」の会員数を「数字」で入力してください\",\n",
    "            \"「J70歳～」×「女性」の会員数を「数字」で入力してください\",\n",
    "            \"「J70歳～」×「性別不明」の会員数を「数字」で入力してください\",\n",
    "            ]\n",
    "        num_of_annual_fee_members_column = [\n",
    "            \"「A未就学児」×「男性」の年会費等を支払っている会員数を「数字」で入力してください\",\n",
    "            \"「A未就学児」×「女性」の 年会費等を支払っている会員数を「数字」で入力してください\",\n",
    "            \"「A未就学児」×「性別不明」の年会費等を支払っている会員数を「数字」で入力してください\",\n",
    "            \"「B小学生」×「男性」の年会費等を支払っている会員数を「数字」で入力してください\",\n",
    "            \"「B小学生」×「女性」の年会費等を支払っている会員数を「数字」で入力してください\",\n",
    "            \"「B小学生」×「性別不明」の年会費等を支払っている会員数を「数字」で入力してください\",\n",
    "            \"「C中学生」×「男性」の年会費等を支払っている会員数を「数字」で入力してください\",\n",
    "            \"「C中学生」×「女性」の年会費等を支払っている会員数を「数字」で入力してください\",\n",
    "            \"「C中学生」×「性別不明」の年会費等を支払っている会員数を「数字」で入力してください\",\n",
    "            \"「D高校生（～18歳）」×「男性」の年会費等を支払っている会員数を「数字」で入力してください\",\n",
    "            \"「D高校生（～18歳）」×「女性」の年会費等を支払っている会員数を「数字」で入力してください\",\n",
    "            \"「D高校生（～18歳）」×「性別不明」の年会費等を支払っている会員数を「数字」で入力してください\",\n",
    "            \"「E～29歳」×「男性」の年会費等を支払っている会員数を「数字」で入力してください\",\n",
    "            \"「E～29歳」×「女性」の年会費等を支払っている会員数を「数字」で入力してください\",\n",
    "            \"「E～29歳」×「性別不明」の年会費等を支払っている会員数を「数字」で入力してください\",\n",
    "            \"「F～39歳」×「男性」の年会費等を支払っている会員数を「数字」で入力してください\",\n",
    "            \"「F～39歳」×「女性」の年会費等を支払っている会員数を「数字」で入力してください\",\n",
    "            \"「F～39歳」×「性別不明」の年会費等を支払っている会員数を「数字」で入力してください\",\n",
    "            \"「G～49歳」×「男性」の年会費等を支払っている会員数を「数字」で入力してください\",\n",
    "            \"「G～49歳」×「女性」の年会費等を支払っている会員数を「数字」で入力してください\",\n",
    "            \"「G～49歳」×「性別不明」の年会費等を支払っている会員数を「数字」で入力してください\",\n",
    "            \"「H～59歳」×「男性」の年会費等を支払っている会員数を「数字」で入力してください\",\n",
    "            \"「H～59歳」×「女性」の年会費等を支払っている会員数を「数字」で入力してください\",\n",
    "            \"「H～59歳」×「性別不明」の年会費等を支払っている会員数を「数字」で入力してください\",\n",
    "            \"「I～69歳」×「男性」の年会費等を支払っている会員数を「数字」で入力してください\",\n",
    "            \"「I～69歳」×「女性」の年会費等を支払っている会員数を「数字」で入力してください\",\n",
    "            \"「I～69歳」×「性別不明」の年会費等を支払っている会員数を「数字」で入力してください\",\n",
    "            \"「J70歳～」×「男性」の年会費等を支払っている会員数を「数字」で入力してください\",\n",
    "            \"「J70歳～」×「女性」の年会費等を支払っている会員数を「数字」で入力してください\",\n",
    "            \"「J70歳～」×「性別不明」の年会費等を支払っている会員数を「数字」で入力してください\",\n",
    "            ]\n",
    "\n",
    "        error_at_num_of_members_column = []\n",
    "        for col in num_of_members_column:\n",
    "            # form_rowが空でないことと、値がNaNでないことを確認してから型をチェック\n",
    "            if not application_row.empty and not pd.isna(application_row[col].iloc[0]) and not isinstance(application_row[col].iloc[0], (int, float)): # floatも許容する\n",
    "                error_at_num_of_members_column.append(col)\n",
    "        if error_at_num_of_members_column:\n",
    "            error_dict['e_a_006-a'] = f'会員数の入力欄に数字ではないデータが入力されている:{error_at_num_of_members_column}'\n",
    "        else:\n",
    "            print('会員数の入力に問題が無い')\n",
    "\n",
    "        error_at_num_of_annual_fee_members_column = []\n",
    "        for col in num_of_annual_fee_members_column:\n",
    "             # form_rowが空でないことと、値がNaNでないことを確認してから型をチェック\n",
    "            if not application_row.empty and not pd.isna(application_row[col].iloc[0]) and not isinstance(application_row[col].iloc[0], (int, float)): # floatも許容する\n",
    "                error_at_num_of_annual_fee_members_column.append(col)\n",
    "        if error_at_num_of_annual_fee_members_column:\n",
    "            error_dict['e_a_006-b'] = f'年会費等を支払っている会員数の入力欄に数字ではないデータが入力されている:{error_at_num_of_annual_fee_members_column}'\n",
    "        else:\n",
    "            print('年会費を払っている会員数の入力に問題が無い')\n",
    "    else:\n",
    "        print(\"警告: check_number_of_members 関数に空のapplication_rowが渡されました。\")\n",
    "    return error_dict\n"
   ]
  },
  {
   "cell_type": "code",
   "execution_count": null,
   "metadata": {
    "executionInfo": {
     "elapsed": 25,
     "status": "ok",
     "timestamp": 1749112418336,
     "user": {
      "displayName": "地域スポーツ振興事業コーディネーター",
      "userId": "15170748379870320941"
     },
     "user_tz": -540
    },
    "id": "r8JjFPvNemOy"
   },
   "outputs": [],
   "source": [
    "# 定期的な活動が2種目以上かをチェックする関数\n",
    "def check_number_of_disciplines(application_row):\n",
    "    \"\"\"\n",
    "    定期的な活動が2種目以上かをチェックします。\n",
    "    \"\"\"\n",
    "    error_dict = {}\n",
    "    if not application_row.empty:\n",
    "        # 種目のカラムをdisciplines_columnとして指定\n",
    "        disciplines_column = [\n",
    "            \"定期的に行っているスポーツ活動種目を選択してください（※定期的とは年間12回以上行っていることを指します） [アーチェリー]\",\n",
    "            \"定期的に行っているスポーツ活動種目を選択してください（※定期的とは年間12回以上行っていることを指します） [アイスホッケー]\",\n",
    "            \"定期的に行っているスポーツ活動種目を選択してください（※定期的とは年間12回以上行っていることを指します） [アメリカンフットボール]\",\n",
    "            \"定期的に行っているスポーツ活動種目を選択してください（※定期的とは年間12回以上行っていることを指します） [インディアカ]\",\n",
    "            \"定期的に行っているスポーツ活動種目を選択してください（※定期的とは年間12回以上行っていることを指します） [ウエイトリフティング]\",\n",
    "            \"定期的に行っているスポーツ活動種目を選択してください（※定期的とは年間12回以上行っていることを指します） [ウォーキング]\",\n",
    "            \"定期的に行っているスポーツ活動種目を選択してください（※定期的とは年間12回以上行っていることを指します） [エアロビック]\",\n",
    "            \"定期的に行っているスポーツ活動種目を選択してください（※定期的とは年間12回以上行っていることを指します） [オリエンテーリング]\",\n",
    "            \"定期的に行っているスポーツ活動種目を選択してください（※定期的とは年間12回以上行っていることを指します） [親子リトミック]\",\n",
    "            \"定期的に行っているスポーツ活動種目を選択してください（※定期的とは年間12回以上行っていることを指します） [カーリング]\",\n",
    "            \"定期的に行っているスポーツ活動種目を選択してください（※定期的とは年間12回以上行っていることを指します） [カヌー]\",\n",
    "            \"定期的に行っているスポーツ活動種目を選択してください（※定期的とは年間12回以上行っていることを指します） [空手道]\",\n",
    "            \"定期的に行っているスポーツ活動種目を選択してください（※定期的とは年間12回以上行っていることを指します） [弓道]\",\n",
    "            \"定期的に行っているスポーツ活動種目を選択してください（※定期的とは年間12回以上行っていることを指します） [近代五種]\",\n",
    "            \"定期的に行っているスポーツ活動種目を選択してください（※定期的とは年間12回以上行っていることを指します） [キンボール]\",\n",
    "            \"定期的に行っているスポーツ活動種目を選択してください（※定期的とは年間12回以上行っていることを指します） [グラウンド・ゴルフ]\",\n",
    "            \"定期的に行っているスポーツ活動種目を選択してください（※定期的とは年間12回以上行っていることを指します） [クレー射撃]\",\n",
    "            \"定期的に行っているスポーツ活動種目を選択してください（※定期的とは年間12回以上行っていることを指します） [ゲートボール]\",\n",
    "            \"定期的に行っているスポーツ活動種目を選択してください（※定期的とは年間12回以上行っていることを指します） [健康体操]\",\n",
    "            \"定期的に行っているスポーツ活動種目を選択してください（※定期的とは年間12回以上行っていることを指します） [剣道]\",\n",
    "            \"定期的に行っているスポーツ活動種目を選択してください（※定期的とは年間12回以上行っていることを指します） [ゴルフ]\",\n",
    "            \"定期的に行っているスポーツ活動種目を選択してください（※定期的とは年間12回以上行っていることを指します） [サッカー]\",\n",
    "            \"定期的に行っているスポーツ活動種目を選択してください（※定期的とは年間12回以上行っていることを指します） [山岳]\",\n",
    "            \"定期的に行っているスポーツ活動種目を選択してください（※定期的とは年間12回以上行っていることを指します） [自転車競技]\",\n",
    "            \"定期的に行っているスポーツ活動種目を選択してください（※定期的とは年間12回以上行っていることを指します） [銃剣道]\",\n",
    "            \"定期的に行っているスポーツ活動種目を選択してください（※定期的とは年間12回以上行っていることを指します） [柔道]\",\n",
    "            \"定期的に行っているスポーツ活動種目を選択してください（※定期的とは年間12回以上行っていることを指します） [少林寺拳法]\",\n",
    "            \"定期的に行っているスポーツ活動種目を選択してください（※定期的とは年間12回以上行っていることを指します） [新体操]\",\n",
    "            \"定期的に行っているスポーツ活動種目を選択してください（※定期的とは年間12回以上行っていることを指します） [水泳(競泳・飛込・水球等)]\",\n",
    "            \"定期的に行っているスポーツ活動種目を選択してください（※定期的とは年間12回以上行っていることを指します） [スキー・スノーボード]\",\n",
    "            \"定期的に行っているスポーツ活動種目を選択してください（※定期的とは年間12回以上行っていることを指します） [スクーバ・ダイビング]\",\n",
    "            \"定期的に行っているスポーツ活動種目を選択してください（※定期的とは年間12回以上行っていることを指します） [スケート]\",\n",
    "            \"定期的に行っているスポーツ活動種目を選択してください（※定期的とは年間12回以上行っていることを指します） [スポーツクライミング]\",\n",
    "            \"定期的に行っているスポーツ活動種目を選択してください（※定期的とは年間12回以上行っていることを指します） [スポーツチャンバラ]\",\n",
    "            \"定期的に行っているスポーツ活動種目を選択してください（※定期的とは年間12回以上行っていることを指します） [スポーツ吹矢]\",\n",
    "            \"定期的に行っているスポーツ活動種目を選択してください（※定期的とは年間12回以上行っていることを指します） [相撲]\",\n",
    "            \"定期的に行っているスポーツ活動種目を選択してください（※定期的とは年間12回以上行っていることを指します） [セーリング]\",\n",
    "            \"定期的に行っているスポーツ活動種目を選択してください（※定期的とは年間12回以上行っていることを指します） [ソフトテニス]\",\n",
    "            \"定期的に行っているスポーツ活動種目を選択してください（※定期的とは年間12回以上行っていることを指します） [ソフトバレーボール]\",\n",
    "            \"定期的に行っているスポーツ活動種目を選択してください（※定期的とは年間12回以上行っていることを指します） [ソフトボール]\",\n",
    "            \"定期的に行っているスポーツ活動種目を選択してください（※定期的とは年間12回以上行っていることを指します） [太極拳]\",\n",
    "            \"定期的に行っているスポーツ活動種目を選択してください（※定期的とは年間12回以上行っていることを指します） [体操(一般体操)]\",\n",
    "            \"定期的に行っているスポーツ活動種目を選択してください（※定期的とは年間12回以上行っていることを指します） [体操競技]\",\n",
    "            \"定期的に行っているスポーツ活動種目を選択してください（※定期的とは年間12回以上行っていることを指します） [卓球]\",\n",
    "            \"定期的に行っているスポーツ活動種目を選択してください（※定期的とは年間12回以上行っていることを指します） [ターゲット・バードゴルフ]\",\n",
    "            \"定期的に行っているスポーツ活動種目を選択してください（※定期的とは年間12回以上行っていることを指します） [ダンス]\",\n",
    "            \"定期的に行っているスポーツ活動種目を選択してください（※定期的とは年間12回以上行っていることを指します） [ダンススポーツ]\",\n",
    "            \"定期的に行っているスポーツ活動種目を選択してください（※定期的とは年間12回以上行っていることを指します） [チアダンス]\",\n",
    "            \"定期的に行っているスポーツ活動種目を選択してください（※定期的とは年間12回以上行っていることを指します） [チアリーディング]\",\n",
    "            \"定期的に行っているスポーツ活動種目を選択してください（※定期的とは年間12回以上行っていることを指します） [綱引]\",\n",
    "            \"定期的に行っているスポーツ活動種目を選択してください（※定期的とは年間12回以上行っていることを指します） [テニス]\",\n",
    "            \"定期的に行っているスポーツ活動種目を選択してください（※定期的とは年間12回以上行っていることを指します） [ドッジボール]\",\n",
    "            \"定期的に行っているスポーツ活動種目を選択してください（※定期的とは年間12回以上行っていることを指します） [トライアスロン]\",\n",
    "            \"定期的に行っているスポーツ活動種目を選択してください（※定期的とは年間12回以上行っていることを指します） [トランポリン]\",\n",
    "            \"定期的に行っているスポーツ活動種目を選択してください（※定期的とは年間12回以上行っていることを指します） [なぎなた]\",\n",
    "            \"定期的に行っているスポーツ活動種目を選択してください（※定期的とは年間12回以上行っていることを指します） [軟式野球]\",\n",
    "            \"定期的に行っているスポーツ活動種目を選択してください（※定期的とは年間12回以上行っていることを指します） [バイアスロン]\",\n",
    "            \"定期的に行っているスポーツ活動種目を選択してください（※定期的とは年間12回以上行っていることを指します） [バウンドテニス]\",\n",
    "            \"定期的に行っているスポーツ活動種目を選択してください（※定期的とは年間12回以上行っていることを指します） [馬術]\",\n",
    "            \"定期的に行っているスポーツ活動種目を選択してください（※定期的とは年間12回以上行っていることを指します） [バスケットボール]\",\n",
    "            \"定期的に行っているスポーツ活動種目を選択してください（※定期的とは年間12回以上行っていることを指します） [バドミントン]\",\n",
    "            \"定期的に行っているスポーツ活動種目を選択してください（※定期的とは年間12回以上行っていることを指します） [バレーボール]\",\n",
    "            \"定期的に行っているスポーツ活動種目を選択してください（※定期的とは年間12回以上行っていることを指します） [パワーリフティング]\",\n",
    "            \"定期的に行っているスポーツ活動種目を選択してください（※定期的とは年間12回以上行っていることを指します） [ハンドボール]\",\n",
    "            \"定期的に行っているスポーツ活動種目を選択してください（※定期的とは年間12回以上行っていることを指します） [フェンシング]\",\n",
    "            \"定期的に行っているスポーツ活動種目を選択してください（※定期的とは年間12回以上行っていることを指します） [フットサル]\",\n",
    "            \"定期的に行っているスポーツ活動種目を選択してください（※定期的とは年間12回以上行っていることを指します） [フライングディスク]\",\n",
    "            \"定期的に行っているスポーツ活動種目を選択してください（※定期的とは年間12回以上行っていることを指します） [フラダンス]\",\n",
    "            \"定期的に行っているスポーツ活動種目を選択してください（※定期的とは年間12回以上行っていることを指します） [プロゴルフ]\",\n",
    "            \"定期的に行っているスポーツ活動種目を選択してください（※定期的とは年間12回以上行っていることを指します） [プロスキー]\",\n",
    "            \"定期的に行っているスポーツ活動種目を選択してください（※定期的とは年間12回以上行っていることを指します） [プロテニス]\",\n",
    "            \"定期的に行っているスポーツ活動種目を選択してください（※定期的とは年間12回以上行っていることを指します） [ペタンク・ブール]\",\n",
    "            \"定期的に行っているスポーツ活動種目を選択してください（※定期的とは年間12回以上行っていることを指します） [ボウリング]\",\n",
    "            \"定期的に行っているスポーツ活動種目を選択してください（※定期的とは年間12回以上行っていることを指します） [ボート]\",\n",
    "            \"定期的に行っているスポーツ活動種目を選択してください（※定期的とは年間12回以上行っていることを指します） [ボクシング]\",\n",
    "            \"定期的に行っているスポーツ活動種目を選択してください（※定期的とは年間12回以上行っていることを指します） [ホッケー]\",\n",
    "            \"定期的に行っているスポーツ活動種目を選択してください（※定期的とは年間12回以上行っていることを指します） [ボブスレー・リュージュ・スケルトン]\",\n",
    "            \"定期的に行っているスポーツ活動種目を選択してください（※定期的とは年間12回以上行っていることを指します） [野球]\",\n",
    "            \"定期的に行っているスポーツ活動種目を選択してください（※定期的とは年間12回以上行っていることを指します） [ヨガ]\",\n",
    "            \"定期的に行っているスポーツ活動種目を選択してください（※定期的とは年間12回以上行っていることを指します） [ライフル射撃]\",\n",
    "            \"定期的に行っているスポーツ活動種目を選択してください（※定期的とは年間12回以上行っていることを指します） [ラグビーフットボール]\",\n",
    "            \"定期的に行っているスポーツ活動種目を選択してください（※定期的とは年間12回以上行っていることを指します） [ランニング(ジョギング)]\",\n",
    "            \"定期的に行っているスポーツ活動種目を選択してください（※定期的とは年間12回以上行っていることを指します） [陸上競技]\",\n",
    "            \"定期的に行っているスポーツ活動種目を選択してください（※定期的とは年間12回以上行っていることを指します） [レスリング]\",\n",
    "            \"定期的に行っているスポーツ活動種目を選択してください（※定期的とは年間12回以上行っていることを指します） [ローラースポーツ]\",\n",
    "            \"定期的に行っているスポーツ活動種目を選択してください（※定期的とは年間12回以上行っていることを指します） [３Ｂ体操]\",\n",
    "            \"定期的に行っているスポーツ活動種目を選択してください（※定期的とは年間12回以上行っていることを指します） [このリストに含まれていない種目]\",\n",
    "            '（上のリストにおいて、「このリストに含まれていない種目」を「実施している」と回答した方に伺います）「リストに含まれていない種目」のうち、定期的に行っているスポーツ活動種目の数'\n",
    "        ]\n",
    "        extra_disciplines_column = '（上のリストにおいて、「このリストに含まれていない種目」を「実施している」と回答した方に伺います）「リストに含まれていない種目」のうち、定期的に行っているスポーツ活動種目の数'\n",
    "        # disciplines_columnのデータが「定期的に行っている」である数を数える\n",
    "        count_of_disciplines = 0\n",
    "        # 各種目カラムをループし、「定期的に行っている」が選択されているかを確認\n",
    "        for col in disciplines_column:\n",
    "            if col != extra_disciplines_column and not application_row.empty and application_row[col].iloc[0] == '定期的に行っている':\n",
    "                count_of_disciplines += 1\n",
    "\n",
    "        # リストに含まれていない種目について処理\n",
    "        if not application_row.empty and application_row['定期的に行っているスポーツ活動種目を選択してください（※定期的とは年間12回以上行っていることを指します） [このリストに含まれていない種目]'].iloc[0] == '定期的に行っている':\n",
    "            # リスト外の活動種目数の項目に数字が入力されているかをチェック\n",
    "            extra_num = application_row[extra_disciplines_column].iloc[0]\n",
    "            if pd.isna(extra_num) or not isinstance(extra_num, (int, float)): # floatも許容する\n",
    "                error_dict['e_a_007-b'] = 'リスト外の活動種目数の項目に数字が入力されていない'\n",
    "            else:\n",
    "                count_of_disciplines += int(extra_num)\n",
    "\n",
    "        # 2種目以上かを確認する\n",
    "        if count_of_disciplines < 2:\n",
    "            error_dict['e_a_007-a'] = '定期的に活動を2種目以上行っていない'\n",
    "        else:\n",
    "            print('活動種目の入力に問題は無い')\n",
    "    else:\n",
    "        print(\"警告: check_number_of_disciplines 関数に空のapplication_rowが渡されました。\")\n",
    "    return error_dict"
   ]
  },
  {
   "cell_type": "code",
   "execution_count": null,
   "metadata": {
    "executionInfo": {
     "elapsed": 1,
     "status": "ok",
     "timestamp": 1749112418342,
     "user": {
      "displayName": "地域スポーツ振興事業コーディネーター",
      "userId": "15170748379870320941"
     },
     "user_tz": -540
    },
    "id": "X5qJo7E1evwI"
   },
   "outputs": [],
   "source": [
    "# 指導者の配置をチェックする関数（R8は、ほぼ機能なし）\n",
    "def check_coaches(application_row):\n",
    "  \"\"\"\n",
    "  指導者の配置状況をチェックします。\n",
    "  \"\"\"\n",
    "  error_dict = {}\n",
    "  # この関数は現段階では不要とのことなので、空の辞書を返します。\n",
    "  # 必要になった場合は、ここに処理を追加してください。\n",
    "  print('指導者の処理が終了しました（現段階では審査に不要のため）')\n",
    "  return error_dict"
   ]
  },
  {
   "cell_type": "code",
   "execution_count": null,
   "metadata": {
    "executionInfo": {
     "elapsed": 1,
     "status": "ok",
     "timestamp": 1749112418345,
     "user": {
      "displayName": "地域スポーツ振興事業コーディネーター",
      "userId": "15170748379870320941"
     },
     "user_tz": -540
    },
    "id": "1YOlNbCFe1C7"
   },
   "outputs": [],
   "source": [
    "# マネジメント指導者資格の入力をチェックする関数\n",
    "def check_managers(application_row):\n",
    "  \"\"\"\n",
    "  クラマネ・アシマネの配置状況と人数の入力をチェックします。\n",
    "  \"\"\"\n",
    "  error_dict = {}\n",
    "  if not application_row.empty:\n",
    "      # カラムを指定\n",
    "      manager_column = [\n",
    "          \"クラブマネジャーのうち公認クラブマネジャー資格保有者の数を入力してください\",\n",
    "          \"クラブマネジャーのうち公認アシスタントマネジャー資格保有者の数を入力してください\",\n",
    "          \"事務局員のうち公認クラブマネジャー資格保有者の数を入力してください\",\n",
    "          \"事務局員のうち公認アシスタントマネジャー資格保有者の数を入力してください\"\n",
    "      ]\n",
    "\n",
    "      # まず配置有無を確認（配置していたら、次の処理へ）\n",
    "      if form_row[\"クラブマネジャーの配置状況について入力してください（※クラブマネジャーとは経営能力を有する専門的な人材のことを指します）\"].iloc[0] == \"配置している\":\n",
    "          # manager_column に数字が入力されているかをチェック\n",
    "          error_at_manager_num = []\n",
    "          manager_num = 0\n",
    "          for col in manager_column:\n",
    "              value = application_row[col].iloc[0]\n",
    "              if pd.isna(value) or not isinstance(value, (int, float)): # floatも許容する\n",
    "                  error_at_manager_num.append(col)\n",
    "              else:\n",
    "                  manager_num += int(value)\n",
    "\n",
    "          if error_at_manager_num:\n",
    "              error_dict['e_a_009-a'] = f'マネジメント指導者数の入力欄に数字ではないデータが入力されている:{error_at_manager_num}'\n",
    "          else:\n",
    "              print('マネジメント指導者数の入力に問題が無い')\n",
    "\n",
    "          # 現段階ではこれ以上の処理はしない\n",
    "      else:\n",
    "          print('マネジメント指導者は配置されていない')\n",
    "  else:\n",
    "      print(\"警告: check_managers 関数に空のapplication_rowが渡されました。\")\n",
    "  return error_dict"
   ]
  },
  {
   "cell_type": "code",
   "execution_count": null,
   "metadata": {
    "executionInfo": {
     "elapsed": 2,
     "status": "ok",
     "timestamp": 1749112418346,
     "user": {
      "displayName": "地域スポーツ振興事業コーディネーター",
      "userId": "15170748379870320941"
     },
     "user_tz": -540
    },
    "id": "jHU_EtCEe5sW"
   },
   "outputs": [],
   "source": [
    "# 規約等の改廃状況を確認する関数\n",
    "def check_rule_revision(application_row):\n",
    "  \"\"\"\n",
    "  規約等の改廃に関する提出書類をチェックします。\n",
    "  \"\"\"\n",
    "  error_dict = {}\n",
    "  if not application_row.empty:\n",
    "      # 改廃状況を確認\n",
    "      if application_row['前年度の申請以後における、規約等の改定状況について入力してください'].iloc[0] == '前年度の申請以降、改定をした':\n",
    "          # 議事録が提出されているかを確認\n",
    "          if not application_row['規約等の改廃を決議した際の議事録をアップロードしてください※同一の書類を提出済みでも、提出をお願いします。'].iloc[0]: # Googleフォームのファイルのアップロード項目はファイルがアップロードされるとFalse以外になることを想定\n",
    "              error_dict['e_a_010-a'] = '規約等の改廃を決議した議事録が提出されていない'\n",
    "          else:\n",
    "              print('規約改廃時の議事録が提出されている')\n",
    "          # 改正前の規約が提出されているかを確認\n",
    "          if not application_row['改廃前の規約等をアップロードしてください'].iloc[0]: # Googleフォームのファイルのアップロード項目はファイルがアップロードされるとFalse以外になることを想定\n",
    "              error_dict['e_a_010-b'] = '改正前の規約等が提出されていない'\n",
    "          else:\n",
    "              print('規約改廃前の規約が提出されている')\n",
    "      else:\n",
    "          print('規約等の改廃は行われていない')\n",
    "  else:\n",
    "      print(\"警告: check_rule_revision 関数に空のapplication_rowが渡されました。\")\n",
    "  return error_dict"
   ]
  },
  {
   "cell_type": "code",
   "execution_count": null,
   "metadata": {
    "executionInfo": {
     "elapsed": 14,
     "status": "ok",
     "timestamp": 1749112418359,
     "user": {
      "displayName": "地域スポーツ振興事業コーディネーター",
      "userId": "15170748379870320941"
     },
     "user_tz": -540
    },
    "id": "uHpInDMke8S-"
   },
   "outputs": [],
   "source": [
    "# （現行の）規約等の提出確認をする関数\n",
    "def check_rule_submission(application_row):\n",
    "  \"\"\"\n",
    "  規約等の提出状況をチェックします。\n",
    "  \"\"\"\n",
    "  error_dict = {}\n",
    "  if not application_row.empty:\n",
    "      # 提出の確認(新規登録なのに、提出していない場合はエラー)\n",
    "      if application_row['規約等の提出有無について入力してください'].iloc[0] == '提出しない' and application_row['申請種別を選択してください'].iloc[0] == '新規（R7年度には登録していない）':\n",
    "          error_dict['e_a_011-a'] = '新規登録なのに、規約等の提出がされていない'\n",
    "      # 更新で、改正済みなのに、提出していない場合はエラー\n",
    "      elif application_row['規約等の提出有無について入力してください'].iloc[0] == '提出しない' and application_row['申請種別を選択してください'].iloc[0] == '更新（R7年度に登録済み）' and application_row['前年度の申請以後における、規約等の改定状況について入力してください'].iloc[0] == '前年度の申請以降、改定をした':\n",
    "          error_dict['e_a_011-b'] = '更新で、改正済みなのに、提出していない'\n",
    "      # 提出する場合は、提出されているかを確認\n",
    "      elif application_row['規約等の提出有無について入力してください'].iloc[0] == '提出する':\n",
    "          # 提出状況の確認\n",
    "          if not application_row['規約等をアップロードしてください'].iloc[0]: # Googleフォームのファイルのアップロード項目はファイルがアップロードされるとFalse以外になることを想定\n",
    "              error_dict['e_a_011-c'] = '規約等の提出がされていない'\n",
    "          else:\n",
    "              print('規約の提出に問題が無い')\n",
    "      else:\n",
    "          print('規約は提出されていないが、更新のため問題は無い（前年度に提出された議事録に問題が無いかを確認する必要がある）')\n",
    "          # ここに、手動での確認表に追記するような処理を挿入する\n",
    "  else:\n",
    "      print(\"警告: check_rule_submission 関数に空のapplication_rowが渡されました。\")\n",
    "  return error_dict\n"
   ]
  },
  {
   "cell_type": "code",
   "execution_count": null,
   "metadata": {
    "executionInfo": {
     "elapsed": 1,
     "status": "ok",
     "timestamp": 1749112418365,
     "user": {
      "displayName": "地域スポーツ振興事業コーディネーター",
      "userId": "15170748379870320941"
     },
     "user_tz": -540
    },
    "id": "cGsqI-bOfAWo"
   },
   "outputs": [],
   "source": [
    "# 役員名簿（議決権保有者名簿）の提出をチェックする関数\n",
    "def check_officer_list_submission(application_row):\n",
    "  \"\"\"\n",
    "  役員名簿（議決権保有者名簿）の提出状況をチェックします。\n",
    "  \"\"\"\n",
    "  error_dict = {}\n",
    "  if not application_row.empty:\n",
    "      # 提出の確認(新規登録なのに、提出していない場合はエラー)\n",
    "      if application_row['役員名簿（議決権保有者名簿）  の提出有無について入力してください'].iloc[0] == '提出しない' and application_row['申請種別を選択してください'].iloc[0] == '新規（R7年度には登録していない）':\n",
    "          error_dict['e_a_012-a'] = '新規登録なのに、役員名簿（議決権保有者名簿）の提出がされていない'\n",
    "      # 更新で、改正済みなのに、提出していない場合はエラー\n",
    "      elif application_row['役員名簿（議決権保有者名簿）  の提出有無について入力してください'].iloc[0] == '提出しない' and application_row['申請種別を選択してください'].iloc[0] == '更新（R7年度に登録済み）':\n",
    "          error_dict['e_a_012-b'] = '更新なのに、提出していない'\n",
    "      # 提出する場合は、提出されているかを確認\n",
    "      elif application_row['役員名簿（議決権保有者名簿）  の提出有無について入力してください'].iloc[0] == '提出する':\n",
    "          # 提出状況の確認\n",
    "          if not application_row['役員名簿（議決権保有者名簿）をアップロードしてください'].iloc[0]: # Googleフォームのファイルのアップロード項目はファイルがアップロードされるとFalse以外になることを想定\n",
    "              error_dict['e_a_012-c'] = '役員名簿（議決権保有者名簿）の提出がされていない'\n",
    "          else:\n",
    "              print('役員名簿の提出に問題が無い')\n",
    "  else:\n",
    "      print(\"警告: check_officer_list_submission 関数に空のapplication_rowが渡されました。\")\n",
    "  return error_dict"
   ]
  },
  {
   "cell_type": "code",
   "execution_count": null,
   "metadata": {
    "executionInfo": {
     "elapsed": 1,
     "status": "ok",
     "timestamp": 1749112418368,
     "user": {
      "displayName": "地域スポーツ振興事業コーディネーター",
      "userId": "15170748379870320941"
     },
     "user_tz": -540
    },
    "id": "aMSvVqDnfCBD"
   },
   "outputs": [],
   "source": [
    "# 事業計画とそれを決議した議事録の提出状況を確認する関数\n",
    "def check_business_plan_submission(application_row):\n",
    "  \"\"\"\n",
    "  事業計画と決議した議事録の提出状況をチェックします。\n",
    "  \"\"\"\n",
    "  error_dict = {}\n",
    "  if not application_row.empty:\n",
    "      # 事業計画が提出されているかを確認\n",
    "      if not application_row['決議された事業計画をアップロードしてください'].iloc[0]: # Googleフォームのファイルのアップロード項目はファイルがアップロードされるとFalse以外になることを想定\n",
    "          error_dict['e_a_013-a'] = '事業計画が提出されていない'\n",
    "      else:\n",
    "          print('事業計画が提出されている')\n",
    "      # 事業計画を決議した際の議事録が提出されているかを確認\n",
    "      if not application_row['事業計画を決議した際の議事録をアップロードしてください※同一の書類を提出済みでも、提出をお願いします。'].iloc[0]: # Googleフォームのファイルのアップロード項目はファイルがアップロードされるとFalse以外になることを想定\n",
    "          error_dict['e_a_013-b'] = '事業計画を決議した議事録が提出されていない'\n",
    "      else:\n",
    "          print('事業計画を決議した議事録が提出されている')\n",
    "  else:\n",
    "      print(\"警告: check_business_plan_submission 関数に空のapplication_rowが渡されました。\")\n",
    "  return error_dict"
   ]
  },
  {
   "cell_type": "code",
   "execution_count": null,
   "metadata": {
    "executionInfo": {
     "elapsed": 17,
     "status": "ok",
     "timestamp": 1749112418386,
     "user": {
      "displayName": "地域スポーツ振興事業コーディネーター",
      "userId": "15170748379870320941"
     },
     "user_tz": -540
    },
    "id": "Lk37Xm2ifEWL"
   },
   "outputs": [],
   "source": [
    "# 予算とそれを決議した議事録の提出状況を確認する関数\n",
    "def check_budget_submission(application_row):\n",
    "  \"\"\"\n",
    "  予算と決議した議事録の提出状況をチェックします。\n",
    "  \"\"\"\n",
    "  error_dict = {}\n",
    "  if not application_row.empty:\n",
    "      # 予算が提出されているかを確認\n",
    "      if not application_row['決議された予算をアップロードしてください'].iloc[0]: # Googleフォームのファイルのアップロード項目はファイルがアップロードされるとFalse以外になることを想定\n",
    "          error_dict['e_a_014-a'] = '予算が提出されていない'\n",
    "      else:\n",
    "          print('予算が提出されている')\n",
    "      # 予算を決議した際の議事録が提出されているかを確認\n",
    "      if not application_row['予算を決議した際の議事録をアップロードしてください※同一の書類を提出済みでも、提出をお願いします。'].iloc[0]: # Googleフォームのファイルのアップロード項目はファイルがアップロードされるとFalse以外になることを想定\n",
    "          error_dict['e_a_014-b'] = '予算を決議した議事録が提出されていない'\n",
    "      else:\n",
    "          print('予算を決議した議事録が提出されている')\n",
    "  else:\n",
    "      print(\"警告: check_budget_submission 関数に空のapplication_rowが渡されました。\")\n",
    "  return error_dict"
   ]
  },
  {
   "cell_type": "code",
   "execution_count": null,
   "metadata": {
    "executionInfo": {
     "elapsed": 3,
     "status": "ok",
     "timestamp": 1749112418387,
     "user": {
      "displayName": "地域スポーツ振興事業コーディネーター",
      "userId": "15170748379870320941"
     },
     "user_tz": -540
    },
    "id": "Y2m78OrufG2M"
   },
   "outputs": [],
   "source": [
    "# 事業報告とそれを決議した議事録の提出状況を確認する関数\n",
    "def check_business_report_submission(application_row):\n",
    "  \"\"\"\n",
    "  事業報告と決議した議事録の提出状況をチェックします。\n",
    "  今年度新設クラブの場合は免除されます。\n",
    "  \"\"\"\n",
    "  error_dict = {}\n",
    "  if not application_row.empty:\n",
    "      # 今年度新設クラブは未提出が許されるので、未提出かつ新設かをチェック\n",
    "      today = datetime.date.today()\n",
    "      one_year_ago = today - datetime.timedelta(days=365) # 厳密には年度で判定すべきですが、ここでは1年前としています\n",
    "\n",
    "      is_new_club = False\n",
    "      if not pd.isna(application_row['クラブの設立日を入力してください'].iloc[0]):\n",
    "          try:\n",
    "              establishment_date = pd.to_datetime(application_row['クラブの設立日を入力してください'].iloc[0]).date()\n",
    "              if establishment_date >= one_year_ago:\n",
    "                  is_new_club = True\n",
    "          except ValueError:\n",
    "              print(f\"警告: クラブ設立日のフォーマットが不正です: {application_row['クラブの設立日を入力してください'].iloc[0]}\")\n",
    "\n",
    "      if application_row['事業報告の提出有無について入力してください'].iloc[0] == '今年度新設されたクラブのため、提出しない' and not is_new_club:\n",
    "          error_dict['e_a_015-a'] = '昨年度以前の設立クラブだが、事業報告が提出されていない'\n",
    "      # 提出がなされているかをチェック\n",
    "      elif application_row['事業報告の提出有無について入力してください'].iloc[0] == '提出する':\n",
    "          if not application_row['決議された事業報告をアップロードしてください'].iloc[0]: # Googleフォームのファイルのアップロード項目はファイルがアップロードされるとFalse以外になることを想定\n",
    "              error_dict['e_a_015-b'] = '事業報告が提出されていない'\n",
    "          else:\n",
    "              print('事業報告が提出されている')\n",
    "          if not application_row['事業報告を決議した際の議事録をアップロードしてください※同一の書類を提出済みでも、提出をお願いします。'].iloc[0]: # Googleフォームのファイルのアップロード項目はファイルがアップロードされるとFalse以外になることを想定\n",
    "              error_dict['e_a_015-c'] = '事業報告を決議した議事録が提出されていない'\n",
    "          else:\n",
    "              print('事業報告を決議した議事録が提出されている')\n",
    "      else:\n",
    "          print('事業報告は提出されていないが、今年度新設クラブのため問題は無い（処理にエラーがある可能性や、クラブの事業年度上は2年目に突入している可能性を確認する必要がある）')\n",
    "          # ここに、手動での確認表に追記するような処理を挿入する\n",
    "  else:\n",
    "      print(\"警告: check_business_report_submission 関数に空のapplication_rowが渡されました。\")\n",
    "  return error_dict"
   ]
  },
  {
   "cell_type": "code",
   "execution_count": null,
   "metadata": {
    "executionInfo": {
     "elapsed": 3,
     "status": "ok",
     "timestamp": 1749112418388,
     "user": {
      "displayName": "地域スポーツ振興事業コーディネーター",
      "userId": "15170748379870320941"
     },
     "user_tz": -540
    },
    "id": "ETjLl9YOfKk2"
   },
   "outputs": [],
   "source": [
    "# 決算とそれを決議した議事録の提出状況を確認する関数\n",
    "def check_financial_statement_submission(application_row):\n",
    "  \"\"\"\n",
    "  決算と決議した議事録の提出状況をチェックします。\n",
    "  今年度新設クラブの場合は免除されます。\n",
    "  \"\"\"\n",
    "  error_dict = {}\n",
    "  if not application_row.empty:\n",
    "      # 今年度新設クラブは未提出が許されるので、未提出かつ新設かをチェック\n",
    "      today = datetime.date.today()\n",
    "      one_year_ago = today - datetime.timedelta(days=365) # 厳密には年度で判定すべきですが、ここでは1年前としています\n",
    "\n",
    "      is_new_club = False\n",
    "      if not pd.isna(application_row['クラブの設立日を入力してください'].iloc[0]):\n",
    "          try:\n",
    "              establishment_date = pd.to_datetime(application_row['クラブの設立日を入力してください'].iloc[0]).date()\n",
    "              if establishment_date >= one_year_ago:\n",
    "                  is_new_club = True\n",
    "          except ValueError:\n",
    "              print(f\"警告: クラブ設立日のフォーマットが不正です: {application_row['クラブの設立日を入力してください'].iloc[0]}\")\n",
    "\n",
    "      if application_row['決算の提出有無について入力してください'].iloc[0] == '今年度新設されたクラブのため、提出しない' and not is_new_club:\n",
    "          error_dict['e_a_016-a'] = '昨年度以前の設立クラブだが、決算が提出されていない'\n",
    "      elif application_row['決算の提出有無について入力してください'].iloc[0] == '提出する':\n",
    "          if not application_row['決算をアップロードしてください'].iloc[0]: # Googleフォームのファイルのアップロード項目はファイルがアップロードされるとFalse以外になることを想定\n",
    "              error_dict['e_a_016-b'] = '決算が提出されていない'\n",
    "          else:\n",
    "              print('決算が提出されている')\n",
    "          if not application_row['決算を決議した際の議事録をアップロードしてください※同一の書類を提出済みでも、提出をお願いします。'].iloc[0]: # Googleフォームのファイルのアップロード項目はファイルがアップロードされるとFalse以外になることを想定\n",
    "              error_dict['e_a_016-c'] = '決算を決議した議事録が提出されていない'\n",
    "          else:\n",
    "              print('決算を決議した議事録が提出されている')\n",
    "      else:\n",
    "          print('決算は提出されていないが、今年度新設クラブのため問題は無い（処理にエラーがある可能性や、クラブの事業年度上は2年目に突入している可能性を確認する必要がある）')\n",
    "          # ここに、手動での確認表に追記するような処理を挿入する\n",
    "  else:\n",
    "      print(\"警告: check_financial_statement_submission 関数に空のapplication_rowが渡されました。\")\n",
    "  return error_dict"
   ]
  },
  {
   "cell_type": "code",
   "execution_count": null,
   "metadata": {
    "executionInfo": {
     "elapsed": 19,
     "status": "ok",
     "timestamp": 1749112418407,
     "user": {
      "displayName": "地域スポーツ振興事業コーディネーター",
      "userId": "15170748379870320941"
     },
     "user_tz": -540
    },
    "id": "SqDRji6qfNYp"
   },
   "outputs": [],
   "source": [
    "# チェックシートの提出状況を確認する関数\n",
    "def check_checklist_submission(application_row):\n",
    "  \"\"\"\n",
    "  チェックシートの提出状況をチェックします。\n",
    "  \"\"\"\n",
    "  error_dict = {}\n",
    "  if not application_row.empty:\n",
    "      if not application_row['評価指標を用いたクラブの自己点検・評価シートをアップロードしてください'].iloc[0]: # Googleフォームのファイルのアップロード項目はファイルがアップロードされるとFalse以外になることを想定\n",
    "          error_dict['e_a_017-a'] = 'チェックシートが提出されていない'\n",
    "      else:\n",
    "          print('チェックシートが提出されている')\n",
    "          # 内容に問題が無いかをチェックする機能を今後追加\n",
    "  else:\n",
    "      print(\"警告: check_checklist_submission 関数に空のapplication_rowが渡されました。\")\n",
    "  return error_dict"
   ]
  },
  {
   "cell_type": "code",
   "execution_count": null,
   "metadata": {
    "executionInfo": {
     "elapsed": 3,
     "status": "ok",
     "timestamp": 1749112418408,
     "user": {
      "displayName": "地域スポーツ振興事業コーディネーター",
      "userId": "15170748379870320941"
     },
     "user_tz": -540
    },
    "id": "G9b1WJnOfPOr"
   },
   "outputs": [],
   "source": [
    "# 自己説明・公表確認書の提出状況を確認する関数\n",
    "def check_self_explanation_submission(application_row):\n",
    "  \"\"\"\n",
    "  自己説明・公表確認書の提出状況をチェックします。\n",
    "  \"\"\"\n",
    "  error_dict = {}\n",
    "  if not application_row.empty:\n",
    "      if not application_row['自己説明・公表確認書をアップロードしてください'].iloc[0]: # Googleフォームのファイルのアップロード項目はファイルがアップロードされるとFalse以外になることを想定\n",
    "          error_dict['e_a_018-a'] = '自己説明・公表確認書が提出されていない'\n",
    "      else:\n",
    "          print('自己説明・公表確認書が提出されている')\n",
    "          # 内容に問題が無いかをチェックする機能を今後追加\n",
    "  else:\n",
    "      print(\"警告: check_self_explanation_submission 関数に空のapplication_rowが渡されました。\")\n",
    "  return error_dict"
   ]
  },
  {
   "cell_type": "code",
   "execution_count": null,
   "metadata": {
    "executionInfo": {
     "elapsed": 21,
     "status": "ok",
     "timestamp": 1749112418241,
     "user": {
      "displayName": "地域スポーツ振興事業コーディネーター",
      "userId": "15170748379870320941"
     },
     "user_tz": -540
    },
    "id": "SJPIWEGKdlqm"
   },
   "outputs": [],
   "source": [
    "# クラブごとの自動チェックを行う関数\n",
    "def perform_automatic_checks(club_name, application_data_df, checklist_folder_path, checklist_create_df, timestamp):\n",
    "    \"\"\"\n",
    "    指定されたクラブに対して自動チェックを行います。\n",
    "\n",
    "    Args:\n",
    "        club_name (str): チェックを行うクラブ名。\n",
    "        application_data_df (pd.DataFrame): 申請内容を含むDataFrame（マージ済みの club_list_df）。\n",
    "        checklist_folder_path (str): チェックリストが保存されているフォルダパス。\n",
    "        checklist_create_df (pd.DataFrame): チェックリスト作成状況を含むDataFrame。\n",
    "        timestamp (str): 現在のタイムスタンプ（yyyymmddHHMMSS形式）。\n",
    "\n",
    "    Returns:\n",
    "        None: チェック結果はチェックリストファイルに書き込まれます。\n",
    "    \"\"\"\n",
    "    print(f\"クラブ名: {club_name}\")\n",
    "\n",
    "    # 申請日時を取得（checklist_create_df から）\n",
    "    # checklist_create_df にクラブ名が存在することを確認\n",
    "    if club_name not in checklist_create_df['クラブ名'].values:\n",
    "        print(f\"警告: クラブ名 '{club_name}' はチェックリスト作成状況に見つかりませんでした。このクラブの処理をスキップします。\")\n",
    "        return\n",
    "\n",
    "    application_date_str_from_checklist = checklist_create_df.loc[checklist_create_df['クラブ名'] == club_name, '申請日時'].iloc[0]\n",
    "    checklist_creation_date_str = checklist_create_df.loc[checklist_create_df['クラブ名'] == club_name, 'チェックリスト作成日時'].iloc[0]\n",
    "\n",
    "    print(f\"申請日時 (from checklist): {application_date_str_from_checklist}\")\n",
    "    print(f\"チェックリスト作成日時: {checklist_creation_date_str}\")\n",
    "\n",
    "    # 対象クラブのチェックリストを読み込み\n",
    "    # row['申請日時']をyyyymmddhhmmssに変換\n",
    "    try:\n",
    "        # checklist_create_dfに保存されている申請日時が文字列の場合を考慮\n",
    "        if isinstance(application_date_str_from_checklist, str):\n",
    "             application_date_from_checklist = datetime.strptime(application_date_str_from_checklist, '%Y-%m-%d %H:%M:%S')\n",
    "        else: # datetime型の場合\n",
    "             application_date_from_checklist = application_date_str_from_checklist\n",
    "        application_date_str_yyyymmddHHMMSS = application_date_from_checklist.strftime('%Y%m%d%H%M%S')\n",
    "    except ValueError:\n",
    "        print(f\"エラー: クラブ '{club_name}' の申請日時のフォーマットが不正です: {application_date_str_from_checklist}\")\n",
    "        return\n",
    "\n",
    "    checklist_file_name = f\"{club_name}_申請{application_date_str_yyyymmddHHMMSS}_作成{checklist_creation_date_str}.csv\"\n",
    "    checklist_file_path = os.path.join(checklist_folder_path, checklist_file_name)\n",
    "    print(f\"チェックリストの読み込みを開始しました: {club_name}\")\n",
    "\n",
    "    # チェックリストファイルが存在するかどうかを確認\n",
    "    if not os.path.exists(checklist_file_path):\n",
    "        print(f\"警告: チェックリストファイル '{checklist_file_path}' が見つかりませんでした。このクラブの処理をスキップします。\")\n",
    "        return\n",
    "\n",
    "    try:\n",
    "        checklist_df = pd.read_csv(checklist_file_path)\n",
    "    except Exception as e:\n",
    "        print(f\"エラー: チェックリストファイル '{checklist_file_path}' の読み込み中にエラーが発生しました: {e}\")\n",
    "        return\n",
    "    print('チェックリストファイルが見つかりました')\n",
    "\n",
    "    # application_data_dfから現在のクラブの行を取得\n",
    "    print(application_data_df)\n",
    "    print(application_data_df.head)\n",
    "    print(application_data_df['クラブ名'])\n",
    "    application_row = application_data_df.loc[application_data_df['クラブ名'] == club_name]\n",
    "\n",
    "    if application_row.empty:\n",
    "        print(f\"警告: クラブ名 '{club_name}' は申請内容を含むデータに見つかりませんでした。このクラブの処理をスキップします。\")\n",
    "        return\n",
    "    else:\n",
    "        print('クラブ名が申請内容に存在')\n",
    "\n",
    "    # 入力エラーが無いかを記載していくための辞書を作成（まずは空）\n",
    "    error_dict = {}\n",
    "\n",
    "    # チェック項目を関数に分割し、呼び出す\n",
    "    # 各チェック関数に application_row を渡すように変更\n",
    "    error_dict.update(check_must_columns(application_row))\n",
    "    error_dict.update(check_submitting_now(application_row))\n",
    "    error_dict.update(check_phone_number(application_row))\n",
    "    error_dict.update(check_fax_number(application_row))\n",
    "    # check_application_type 関数には application_data_df を渡す\n",
    "    error_dict.update(check_application_type(application_row, application_data_df, club_name))\n",
    "    error_dict.update(check_standard_compliance(application_row))\n",
    "    error_dict.update(check_number_of_members(application_row))\n",
    "    error_dict.update(check_number_of_disciplines(application_row))\n",
    "    # error_dict.update(check_coaches(application_row)) # 現段階では不要\n",
    "    error_dict.update(check_managers(application_row))\n",
    "    error_dict.update(check_rule_revision(application_row))\n",
    "    error_dict.update(check_rule_submission(application_row))\n",
    "    error_dict.update(check_officer_list_submission(application_row))\n",
    "    error_dict.update(check_business_plan_submission(application_row))\n",
    "    error_dict.update(check_budget_submission(application_row))\n",
    "    error_dict.update(check_business_report_submission(application_row))\n",
    "    error_dict.update(check_financial_statement_submission(application_row))\n",
    "    error_dict.update(check_checklist_submission(application_row))\n",
    "    error_dict.update(check_self_explanation_submission(application_row))\n",
    "\n",
    "\n",
    "    # 一旦、チェックリストをprint\n",
    "    print(f\"チェック結果: {error_dict}\")\n",
    "\n",
    "    # 自動でチェックした内容をチェックリストに書き出し(チェックリストの上書き）\n",
    "    # error_dictが空の場合は空文字列を書き込む\n",
    "    checklist_df['自動チェック'] = str(error_dict) if error_dict else ''\n",
    "    checklist_df['自動チェック更新時間'] = datetime.now(timezone(timedelta(hours=9))).strftime('%Y-%m-%d %H:%M:%S')\n",
    "\n",
    "    # 追記したカラムをチェック\n",
    "    print(checklist_df[['自動チェック','自動チェック更新時間']].iloc[0])\n",
    "\n",
    "    # チェックリストファイルを保存\n",
    "    try:\n",
    "        checklist_df.to_csv(checklist_file_path, index=False)\n",
    "        print(f\"チェックリストファイル '{checklist_file_path}' を更新しました。\")\n",
    "    except Exception as e:\n",
    "        print(f\"エラー: チェックリストファイル '{checklist_file_path}' の書き込み中にエラーが発生しました: {e}\")"
   ]
  },
  {
   "cell_type": "code",
   "execution_count": null,
   "metadata": {
    "colab": {
     "base_uri": "https://localhost:8080/",
     "height": 1000
    },
    "executionInfo": {
     "elapsed": 183,
     "status": "error",
     "timestamp": 1749112418589,
     "user": {
      "displayName": "地域スポーツ振興事業コーディネーター",
      "userId": "15170748379870320941"
     },
     "user_tz": -540
    },
    "id": "kD8LD_jW4Zwg",
    "outputId": "0b3519e9-f114-464f-f51b-2d6d595c9814"
   },
   "outputs": [],
   "source": [
    "# チェック処理の実行部分\n",
    "# 必要なデータを読み込み\n",
    "checklist_create_df = pd.read_csv('R7_登録申請処理/申請入力内容/クラブごとのチェックリスト作成状況.csv')\n",
    "\n",
    "# クラブリストを読み込み\n",
    "# クラブリスト_{timestamp}.csvを読み込む\n",
    "# folderを参照して、最新のクラブリストを探す\n",
    "foldr_path = 'R7_登録申請処理/クラブリスト'\n",
    "latest_file = max([os.path.join(foldr_path, f) for f in os.listdir(foldr_path)], key=os.path.getctime)\n",
    "\n",
    "# 最新のクラブリストを読み込む\n",
    "club_list_df = pd.read_csv(latest_file)\n",
    "\n",
    "try:\n",
    "    club_list_df = pd.read_csv(latest_file)\n",
    "    # タイムスタンプをdatetime型に変換\n",
    "    club_list_df['タイムスタンプ'] = pd.to_datetime(club_list_df['タイムスタンプ'], errors='coerce')\n",
    "    club_list_df['タイムスタンプyyyymmddHHMMSS'] = club_list_df['タイムスタンプ'].dt.strftime('%Y%m%d%H%M%S')\n",
    "    print(\"申請内容の読み込みが完了しました\")\n",
    "except Exception as e:\n",
    "    print(f\"申請内容の読み込み中にエラーが発生しました: {e}\")\n",
    "\n",
    "# チェックリストのフォルダを指定\n",
    "checklist_folder_path = 'R7_登録申請処理/申請入力内容'\n",
    "\n",
    "# 日本の現在時刻を取得\n",
    "jst_now = datetime.now(timezone(timedelta(hours=9)))\n",
    "\n",
    "# 時刻をyyyymmddHHMMSS形式に変換\n",
    "timestamp = jst_now.strftime(\"%Y%m%d%H%M%S\")\n",
    "\n",
    "# クラブリストの各行に対して自動チェックを実行\n",
    "# checklist_create_df をイテレートして、各クラブに対してチェックを実行\n",
    "for index, row in checklist_create_df.iterrows():\n",
    "    club_name = row['クラブ名']\n",
    "    perform_automatic_checks(club_name, club_list_df, checklist_folder_path, checklist_create_df, timestamp)"
   ]
  },
  {
   "cell_type": "code",
   "execution_count": null,
   "metadata": {
    "executionInfo": {
     "elapsed": 60,
     "status": "aborted",
     "timestamp": 1749112418648,
     "user": {
      "displayName": "地域スポーツ振興事業コーディネーター",
      "userId": "15170748379870320941"
     },
     "user_tz": -540
    },
    "id": "q-23sCPkdN1k"
   },
   "outputs": [],
   "source": [
    "# 人間がチェックする用のリストを作成\n",
    "## 申請内容\n",
    "## 書類ごとの内容\n",
    "\n",
    "# 実装するべき機能\n",
    "# 更新かつ、規約等改正無しかつ、規約等の提出が無い場合は、チェック項目を追加\n",
    "# 事業報告・決算を新設としたクラブは、設立年と事業年度をチェック\n",
    "\n",
    "## 処理間の整合性\n",
    "print('とりあえず処理が終了しました～☺')"
   ]
  }
 ],
 "metadata": {
  "colab": {
   "authorship_tag": "ABX9TyMUr1624fjgCA0DGOqhtbXv",
   "collapsed_sections": [
    "gGR22si2Zx7R"
   ],
   "mount_file_id": "1bfFGmInU70d1oopXTOx268txtckcPeji",
   "provenance": []
  },
  "kernelspec": {
   "display_name": "Python 3",
   "name": "python3"
  },
  "language_info": {
   "name": "python"
  }
 },
 "nbformat": 4,
 "nbformat_minor": 0
}
